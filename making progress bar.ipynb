{
 "cells": [
  {
   "cell_type": "code",
   "execution_count": 1,
   "metadata": {},
   "outputs": [],
   "source": [
    "from glio.progress_bar import PBar"
   ]
  },
  {
   "cell_type": "code",
   "execution_count": 3,
   "metadata": {},
   "outputs": [
    {
     "data": {
      "text/plain": [
       "                    | 0/10 | 0.00ops/s, elapsed: 0ms, rem: 0ms | "
      ]
     },
     "metadata": {},
     "output_type": "display_data"
    },
    {
     "data": {
      "text/plain": [
       "▉▉▉▉▉▉▉▉▉▉▉▉▉▉      | 347/500 | 69.90ops/s, elapsed: 4.96s, rem: 2.19s | ; 7 / 10\n",
       "whatever\n",
       "whatever2"
      ]
     },
     "metadata": {},
     "output_type": "display_data"
    },
    {
     "data": {
      "text/plain": [
       "▉▉▉▉▉▉▉▉▉▉▉▉▉▉      | 7/10 | 0.15ops/s, elapsed: 47.07s, rem: 20.17s | ; epoch = 0 / 10\n",
       "loss=3\n",
       "stuff=6"
      ]
     },
     "metadata": {},
     "output_type": "display_data"
    },
    {
     "ename": "KeyboardInterrupt",
     "evalue": "",
     "output_type": "error",
     "traceback": [
      "\u001b[1;31m---------------------------------------------------------------------------\u001b[0m",
      "\u001b[1;31mKeyboardInterrupt\u001b[0m                         Traceback (most recent call last)",
      "Cell \u001b[1;32mIn [3], line 11\u001b[0m\n\u001b[0;32m      9\u001b[0m bar3\u001b[38;5;241m.\u001b[39mwrite(\u001b[38;5;124mf\u001b[39m\u001b[38;5;124m'\u001b[39m\u001b[38;5;124m; \u001b[39m\u001b[38;5;132;01m{\u001b[39;00mi\u001b[38;5;132;01m}\u001b[39;00m\u001b[38;5;124m / 10\u001b[39m\u001b[38;5;130;01m\\n\u001b[39;00m\u001b[38;5;124mwhatever\u001b[39m\u001b[38;5;130;01m\\n\u001b[39;00m\u001b[38;5;124mwhatever2\u001b[39m\u001b[38;5;124m'\u001b[39m)\n\u001b[0;32m     10\u001b[0m \u001b[38;5;28;01mfor\u001b[39;00m j \u001b[38;5;129;01min\u001b[39;00m bar3:\n\u001b[1;32m---> 11\u001b[0m     time\u001b[38;5;241m.\u001b[39msleep(\u001b[38;5;241m0.01\u001b[39m)\n",
      "\u001b[1;31mKeyboardInterrupt\u001b[0m: "
     ]
    }
   ],
   "source": [
    "import time,random\n",
    "bar = PBar(range(10), step=1)\n",
    "bar3 = PBar(range(500), step=1)\n",
    "bar2 = PBar(range(10), step=1)\n",
    "for epoch in bar:\n",
    "    bar2.set_obj(range(10))\n",
    "    bar2.write(f'; epoch = {epoch} / 10\\nloss=3\\nstuff=6')\n",
    "    for i in bar2:\n",
    "        bar3.write(f'; {i} / 10\\nwhatever\\nwhatever2')\n",
    "        for j in bar3:\n",
    "            time.sleep(0.01)\n",
    "\n"
   ]
  }
 ],
 "metadata": {
  "kernelspec": {
   "display_name": "pytorch311",
   "language": "python",
   "name": "python3"
  },
  "language_info": {
   "codemirror_mode": {
    "name": "ipython",
    "version": 3
   },
   "file_extension": ".py",
   "mimetype": "text/x-python",
   "name": "python",
   "nbconvert_exporter": "python",
   "pygments_lexer": "ipython3",
   "version": "3.11.5"
  }
 },
 "nbformat": 4,
 "nbformat_minor": 2
}
