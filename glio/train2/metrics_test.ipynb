{
 "cells": [
  {
   "cell_type": "code",
   "execution_count": 1,
   "metadata": {},
   "outputs": [],
   "source": [
    "from glio.train2 import (Metric_Accuracy,\n",
    "                        MONAI_Dice, MONAI_GeneralizedDice, MONAI_IoU, MONAI_ROCAUC,\n",
    "                        Torcheval_Precision, Torcheval_Recall, Torcheval_AURPC, Torcheval_AUROC, Torcheval_Dice)\n",
    "import torch\n",
    "from glio.python_tools import printargs"
   ]
  },
  {
   "cell_type": "code",
   "execution_count": 2,
   "metadata": {},
   "outputs": [
    {
     "name": "stdout",
     "output_type": "stream",
     "text": [
      "torch.Size([64, 4, 96, 96]) torch.Size([64, 4, 96, 96])\n",
      "acc                  = 0.2510562539100647\n",
      "dice                 = 1.0030044317245483\n",
      "gdice                = 1.4930357933044434\n",
      "monai_rocauc         = 0.5011540206718763\n",
      "precision            = 0.2510544955730438\n",
      "recall               = 0.2510562539100647\n",
      "torcheval_aurpc      = 0.24989502131938934\n",
      "torcheval_rocauc     = 0.5001171827316284\n",
      "tedice               = 0.2510562539100647\n"
     ]
    }
   ],
   "source": [
    "acc = Metric_Accuracy(True, True)\n",
    "dice = MONAI_Dice(4, True, True)\n",
    "gdice = MONAI_GeneralizedDice(4, True, True)\n",
    "iou = MONAI_IoU(4, True, True)\n",
    "monai_rocauc = MONAI_ROCAUC(4, False)\n",
    "precision = Torcheval_Precision(4, True, True)\n",
    "recall = Torcheval_Recall(4, True, True)\n",
    "torcheval_aurpc = Torcheval_AURPC(4, True)\n",
    "torcheval_rocauc = Torcheval_AUROC(4, True)\n",
    "tedice = Torcheval_Dice(4, True, True)\n",
    "preds = torch.randn(64, 4, 96,96).abs()\n",
    "targets = torch.nn.functional.one_hot(torch.randn(64, 4, 96, 96).abs().argmax(1), 4).swapaxes(1, 3)\n",
    "print(preds.shape, targets.shape)\n",
    "class Learner: preds, targets = preds, targets\n",
    "l = Learner()\n",
    "printargs(acc=acc(l))\n",
    "printargs(dice=dice(l))\n",
    "printargs(gdice=gdice(l))\n",
    "printargs(monai_rocauc=monai_rocauc(l))\n",
    "printargs(precision=precision(l))\n",
    "printargs(recall=recall(l))\n",
    "printargs(torcheval_aurpc=torcheval_aurpc(l))\n",
    "printargs(torcheval_rocauc=torcheval_rocauc(l))\n",
    "printargs(tedice = tedice(l))"
   ]
  }
 ],
 "metadata": {
  "kernelspec": {
   "display_name": "pytorch311",
   "language": "python",
   "name": "python3"
  },
  "language_info": {
   "codemirror_mode": {
    "name": "ipython",
    "version": 3
   },
   "file_extension": ".py",
   "mimetype": "text/x-python",
   "name": "python",
   "nbconvert_exporter": "python",
   "pygments_lexer": "ipython3",
   "version": "3.11.5"
  }
 },
 "nbformat": 4,
 "nbformat_minor": 2
}
