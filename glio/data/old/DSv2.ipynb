{
 "cells": [
  {
   "cell_type": "code",
   "execution_count": 1,
   "metadata": {},
   "outputs": [],
   "source": [
    "from glio.data import DSv2\n",
    "from glio.data.DSv2 import smart_compose, Compose\n",
    "import torch\n",
    "from torchvision.transforms import v2"
   ]
  },
  {
   "cell_type": "code",
   "execution_count": 2,
   "metadata": {},
   "outputs": [
    {
     "name": "stdout",
     "output_type": "stream",
     "text": [
      "Compose(Resize(size=[24, 24], interpolation=InterpolationMode.BILINEAR, antialias=warn), CenterCrop(size=(24, 24)))\n"
     ]
    }
   ],
   "source": [
    "resize = v2.Resize((24,24))\n",
    "crop = v2.CenterCrop((24,24))\n",
    "print(smart_compose(resize, crop))"
   ]
  },
  {
   "cell_type": "code",
   "execution_count": 6,
   "metadata": {},
   "outputs": [
    {
     "name": "stdout",
     "output_type": "stream",
     "text": [
      "Compose([CenterCrop(size=(24, 24)), Resize(size=[24, 24], interpolation=InterpolationMode.BILINEAR, antialias=warn)], [CenterCrop(size=(24, 24)), Resize(size=[24, 24], interpolation=InterpolationMode.BILINEAR, antialias=warn)])\n"
     ]
    }
   ],
   "source": [
    "seq = torch.nn.Sequential(resize, crop)\n",
    "crop2 = Compose([crop, resize])\n",
    "print(smart_compose(crop2, crop2))"
   ]
  }
 ],
 "metadata": {
  "kernelspec": {
   "display_name": "pytorch311",
   "language": "python",
   "name": "python3"
  },
  "language_info": {
   "codemirror_mode": {
    "name": "ipython",
    "version": 3
   },
   "file_extension": ".py",
   "mimetype": "text/x-python",
   "name": "python",
   "nbconvert_exporter": "python",
   "pygments_lexer": "ipython3",
   "version": "3.11.5"
  }
 },
 "nbformat": 4,
 "nbformat_minor": 2
}
