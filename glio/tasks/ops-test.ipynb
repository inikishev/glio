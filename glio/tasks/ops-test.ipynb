{
 "cells": [
  {
   "cell_type": "code",
   "execution_count": 2,
   "metadata": {},
   "outputs": [
    {
     "name": "stdout",
     "output_type": "stream",
     "text": [
      "tensor(2.1476, grad_fn=<MseLossBackward0>)|tensor(1.9229, grad_fn=<MseLossBackward0>)|tensor(1.7179, grad_fn=<MseLossBackward0>)|tensor(1.5317, grad_fn=<MseLossBackward0>)|tensor(1.3629, grad_fn=<MseLossBackward0>)|tensor(1.2104, grad_fn=<MseLossBackward0>)|tensor(1.0729, grad_fn=<MseLossBackward0>)|tensor(0.9493, grad_fn=<MseLossBackward0>)|tensor(0.8387, grad_fn=<MseLossBackward0>)|tensor(0.7399, grad_fn=<MseLossBackward0>)|tensor(0.6518, grad_fn=<MseLossBackward0>)|tensor(0.5734, grad_fn=<MseLossBackward0>)|tensor(0.5040, grad_fn=<MseLossBackward0>)|tensor(0.4425, grad_fn=<MseLossBackward0>)|tensor(0.3883, grad_fn=<MseLossBackward0>)|tensor(0.3406, grad_fn=<MseLossBackward0>)|tensor(0.2987, grad_fn=<MseLossBackward0>)|tensor(0.2620, grad_fn=<MseLossBackward0>)|tensor(0.2299, grad_fn=<MseLossBackward0>)|tensor(0.2020, grad_fn=<MseLossBackward0>)|tensor(0.1776, grad_fn=<MseLossBackward0>)|tensor(0.1564, grad_fn=<MseLossBackward0>)|tensor(0.1379, grad_fn=<MseLossBackward0>)|tensor(0.1218, grad_fn=<MseLossBackward0>)|tensor(0.1076, grad_fn=<MseLossBackward0>)|tensor(0.0952, grad_fn=<MseLossBackward0>)|tensor(0.0842, grad_fn=<MseLossBackward0>)|tensor(0.0746, grad_fn=<MseLossBackward0>)|tensor(0.0661, grad_fn=<MseLossBackward0>)|tensor(0.0585, grad_fn=<MseLossBackward0>)|tensor(0.0518, grad_fn=<MseLossBackward0>)|tensor(0.0459, grad_fn=<MseLossBackward0>)|tensor(0.0408, grad_fn=<MseLossBackward0>)|tensor(0.0362, grad_fn=<MseLossBackward0>)|tensor(0.0322, grad_fn=<MseLossBackward0>)|tensor(0.0287, grad_fn=<MseLossBackward0>)|tensor(0.0257, grad_fn=<MseLossBackward0>)|tensor(0.0230, grad_fn=<MseLossBackward0>)|tensor(0.0207, grad_fn=<MseLossBackward0>)|tensor(0.0186, grad_fn=<MseLossBackward0>)|tensor(0.0168, grad_fn=<MseLossBackward0>)|tensor(0.0153, grad_fn=<MseLossBackward0>)|tensor(0.0139, grad_fn=<MseLossBackward0>)|tensor(0.0126, grad_fn=<MseLossBackward0>)|tensor(0.0116, grad_fn=<MseLossBackward0>)|tensor(0.0106, grad_fn=<MseLossBackward0>)|tensor(0.0097, grad_fn=<MseLossBackward0>)|tensor(0.0089, grad_fn=<MseLossBackward0>)|tensor(0.0081, grad_fn=<MseLossBackward0>)|tensor(0.0074, grad_fn=<MseLossBackward0>)|tensor(0.0068, grad_fn=<MseLossBackward0>)|tensor(0.0062, grad_fn=<MseLossBackward0>)|tensor(0.0056, grad_fn=<MseLossBackward0>)|tensor(0.0051, grad_fn=<MseLossBackward0>)|tensor(0.0047, grad_fn=<MseLossBackward0>)|tensor(0.0042, grad_fn=<MseLossBackward0>)|tensor(0.0038, grad_fn=<MseLossBackward0>)|tensor(0.0035, grad_fn=<MseLossBackward0>)|tensor(0.0031, grad_fn=<MseLossBackward0>)|tensor(0.0028, grad_fn=<MseLossBackward0>)|tensor(0.0025, grad_fn=<MseLossBackward0>)|tensor(0.0022, grad_fn=<MseLossBackward0>)|tensor(0.0020, grad_fn=<MseLossBackward0>)|tensor(0.0018, grad_fn=<MseLossBackward0>)|tensor(0.0016, grad_fn=<MseLossBackward0>)|tensor(0.0014, grad_fn=<MseLossBackward0>)|tensor(0.0013, grad_fn=<MseLossBackward0>)|tensor(0.0011, grad_fn=<MseLossBackward0>)|tensor(0.0010, grad_fn=<MseLossBackward0>)|tensor(0.0009, grad_fn=<MseLossBackward0>)|tensor(0.0008, grad_fn=<MseLossBackward0>)|tensor(0.0007, grad_fn=<MseLossBackward0>)|tensor(0.0007, grad_fn=<MseLossBackward0>)|tensor(0.0006, grad_fn=<MseLossBackward0>)|tensor(0.0005, grad_fn=<MseLossBackward0>)|tensor(0.0005, grad_fn=<MseLossBackward0>)|tensor(0.0004, grad_fn=<MseLossBackward0>)|tensor(0.0004, grad_fn=<MseLossBackward0>)|tensor(0.0004, grad_fn=<MseLossBackward0>)|tensor(0.0003, grad_fn=<MseLossBackward0>)|tensor(0.0003, grad_fn=<MseLossBackward0>)|tensor(0.0003, grad_fn=<MseLossBackward0>)|tensor(0.0002, grad_fn=<MseLossBackward0>)|tensor(0.0002, grad_fn=<MseLossBackward0>)|tensor(0.0002, grad_fn=<MseLossBackward0>)|tensor(0.0002, grad_fn=<MseLossBackward0>)|tensor(0.0002, grad_fn=<MseLossBackward0>)|tensor(0.0002, grad_fn=<MseLossBackward0>)|tensor(0.0001, grad_fn=<MseLossBackward0>)|tensor(0.0001, grad_fn=<MseLossBackward0>)|tensor(0.0001, grad_fn=<MseLossBackward0>)|tensor(0.0001, grad_fn=<MseLossBackward0>)|tensor(9.7327e-05, grad_fn=<MseLossBackward0>)|tensor(8.8163e-05, grad_fn=<MseLossBackward0>)|tensor(7.9714e-05, grad_fn=<MseLossBackward0>)|tensor(7.1944e-05, grad_fn=<MseLossBackward0>)|tensor(6.4811e-05, grad_fn=<MseLossBackward0>)|tensor(5.8271e-05, grad_fn=<MseLossBackward0>)|tensor(5.2287e-05, grad_fn=<MseLossBackward0>)|tensor(4.6829e-05, grad_fn=<MseLossBackward0>)|"
     ]
    },
    {
     "data": {
      "image/png": "[encoded data removed]",
      "text/plain": [
       "<Figure size 640x480 with 1 Axes>"
      ]
     },
     "metadata": {},
     "output_type": "display_data"
    }
   ],
   "source": [
    "import torch\n",
    "image = torch.randn(3,16,16)\n",
    "x0 = torch.randn(3, 16, 16, requires_grad=True)\n",
    "loss =torch.nn.MSELoss()\n",
    "optimizer = torch.optim.Adam([x0], lr=0.1)\n",
    "\n",
    "\n",
    "for i in range(100):\n",
    "    optimizer.zero_grad()\n",
    "    l = loss(x0, image)\n",
    "    l.backward()\n",
    "    optimizer.step()\n",
    "    print(l, end= \"|\")\n",
    "\n",
    "from glio.visualize import vis_imshow\n",
    "\n",
    "vis_imshow(x0)"
   ]
  },
  {
   "cell_type": "code",
   "execution_count": null,
   "metadata": {},
   "outputs": [],
   "source": [
    "from typing import Callable\n",
    "from glio.loaders.image import read as imread\n",
    "from glio.transforms import fToChannelsLast\n",
    "from glio.python_tools import auto_compose\n",
    "import numpy as np\n",
    "def z_normalize(img):\n",
    "    return (img - img.mean()) / img.std()\n",
    "\n",
    "class LearnArray:\n",
    "    def __init__(self, array:str | torch.Tensor | Callable | np.ndarray, transform = z_normalize, loss = torch.nn.functional.mse_loss):\n",
    "        if callable(array): array = array()\n",
    "        if isinstance(array, str): array = fToChannelsLast(imread(array))\n",
    "        elif isinstance(array, np.ndarray): array = torch.from_numpy(array)\n",
    "\n",
    "        self.array = torch.tensor(array,requires_grad=True)\n",
    "\n",
    "        self.transform = auto_compose(transform)\n",
    "        self.loss = loss\n",
    "\n",
    "    def parameters(self):pass\n"
   ]
  }
 ],
 "metadata": {
  "kernelspec": {
   "display_name": "pytorch311",
   "language": "python",
   "name": "python3"
  },
  "language_info": {
   "codemirror_mode": {
    "name": "ipython",
    "version": 3
   },
   "file_extension": ".py",
   "mimetype": "text/x-python",
   "name": "python",
   "nbconvert_exporter": "python",
   "pygments_lexer": "ipython3",
   "version": "3.11.5"
  }
 },
 "nbformat": 4,
 "nbformat_minor": 2
}
