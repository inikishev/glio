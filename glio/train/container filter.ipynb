{
 "cells": [
  {
   "cell_type": "code",
   "execution_count": 2,
   "metadata": {},
   "outputs": [],
   "source": [
    "import torch\n",
    "from torch import nn\n",
    "from glio import nn as gnn\n",
    "from glio.train import conv, linear\n",
    "from glio.python_tools import type_str"
   ]
  },
  {
   "cell_type": "code",
   "execution_count": 12,
   "metadata": {},
   "outputs": [
    {
     "name": "stdout",
     "output_type": "stream",
     "text": [
      "/__main__.Model                                   : 0 params, 6 buffers, 20 modules, 7 children, False\n",
      "relu/torch.nn.modules.activation.ReLU             : 0 params, 0 buffers, 1 modules, 0 children, True\n",
      "batchnorm/torch.nn.modules.batchnorm.BatchNorm2d  : 2 params, 3 buffers, 1 modules, 0 children, True\n",
      "seq1/torch.nn.modules.container.Sequential        : 0 params, 0 buffers, 2 modules, 1 children, False\n",
      "seq1.0/torch.nn.modules.conv.Conv2d               : 2 params, 0 buffers, 1 modules, 0 children, True\n",
      "seqmany/torch.nn.modules.container.Sequential     : 0 params, 3 buffers, 6 modules, 5 children, False\n",
      "seqmany.0/torch.nn.modules.conv.Conv2d            : 2 params, 0 buffers, 1 modules, 0 children, True\n",
      "seqmany.1/torch.nn.modules.activation.ReLU        : 0 params, 0 buffers, 1 modules, 0 children, True\n",
      "seqmany.2/torch.nn.modules.pooling.MaxPool2d      : 0 params, 0 buffers, 1 modules, 0 children, True\n",
      "seqmany.3/torch.nn.modules.batchnorm.BatchNorm2d  : 2 params, 3 buffers, 1 modules, 0 children, True\n",
      "seqmany.4/torch.nn.modules.dropout.Dropout2d      : 0 params, 0 buffers, 1 modules, 0 children, True\n",
      "hist/glio.nn.HistogramLayer.HistogramLayer        : 2 params, 0 buffers, 4 modules, 3 children, True\n",
      "hist.bin_centers_conv/torch.nn.modules.conv.Conv2d: 2 params, 0 buffers, 1 modules, 0 children, True\n",
      "hist.bin_widths_conv/torch.nn.modules.conv.Conv2d : 1 params, 0 buffers, 1 modules, 0 children, True\n",
      "hist.hist_pool/torch.nn.modules.pooling.AvgPool2d : 0 params, 0 buffers, 1 modules, 0 children, True\n",
      "rand/glio.nn.random.RandomChoice                  : 0 params, 0 buffers, 4 modules, 1 children, False\n",
      "rand.layers/torch.nn.modules.container.ModuleList : 0 params, 0 buffers, 3 modules, 2 children, False\n",
      "rand.layers.0/torch.nn.modules.conv.Conv2d        : 2 params, 0 buffers, 1 modules, 0 children, True\n",
      "rand.layers.1/torch.nn.modules.conv.Conv2d        : 2 params, 0 buffers, 1 modules, 0 children, True\n",
      "reverse_conv/glio.nn.conv.ReverseConv             : 2 params, 0 buffers, 1 modules, 0 children, True\n"
     ]
    }
   ],
   "source": [
    "class Model(nn.Module):\n",
    "    def __init__(self):\n",
    "        super().__init__()\n",
    "        self.relu = nn.ReLU()\n",
    "        self.batchnorm = nn.BatchNorm2d(3)\n",
    "        self.seq1 = nn.Sequential(\n",
    "            nn.Conv2d(3, 3, 3),\n",
    "        )\n",
    "        self.seqmany = conv(3, 3, 3, batch_norm=True, dropout=0.5, act=nn.ReLU(), pool = nn.MaxPool2d(2,2))\n",
    "        self.hist = gnn.HistogramLayer(32, 4)\n",
    "        self.rand = gnn.RandomChoice(nn.Conv2d(3, 3, 3), nn.Conv2d(3, 3, 3))\n",
    "        self.reverse_conv = gnn.ReverseConv((32, 32), 3)\n",
    "    def forward(self, x):\n",
    "\n",
    "        return x\n",
    "\n",
    "def is_not_container(mod:torch.nn.Module):\n",
    "    if len(list(mod.children())) == 0: return True # all containers have chilren\n",
    "    if len(list(mod.parameters(False))) == 0 and len(list(mod.buffers(False))) == 0: return False # containers don't do anything themselves\n",
    "    return True\n",
    "    \n",
    "for name, mod in Model().named_modules(remove_duplicate=False):\n",
    "    print(f\"{(f'{name}/{type_str(mod)}').ljust(50)}: {len(list(mod.parameters(False)))} params, {len(list(mod.buffers()))} buffers, {len(list(mod.modules()))} modules, {len(list(mod.children()))} children, {is_not_container(mod)}\")"
   ]
  }
 ],
 "metadata": {
  "kernelspec": {
   "display_name": "pytorch311",
   "language": "python",
   "name": "python3"
  },
  "language_info": {
   "codemirror_mode": {
    "name": "ipython",
    "version": 3
   },
   "file_extension": ".py",
   "mimetype": "text/x-python",
   "name": "python",
   "nbconvert_exporter": "python",
   "pygments_lexer": "ipython3",
   "version": "3.11.5"
  }
 },
 "nbformat": 4,
 "nbformat_minor": 2
}
