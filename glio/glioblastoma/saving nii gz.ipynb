{
 "cells": [
  {
   "cell_type": "code",
   "execution_count": 3,
   "metadata": {},
   "outputs": [
    {
     "name": "stdout",
     "output_type": "stream",
     "text": [
      "[[ -1.   0.   0.  -0.]\n",
      " [  0.  -1.   0. 239.]\n",
      " [  0.   0.   1.   0.]\n",
      " [  0.   0.   0.   1.]]\n"
     ]
    }
   ],
   "source": [
    "from glio.loaders import niiread, niiwrite_nib, niiread_affine\n",
    "import nibabel as nib\n",
    "path = r\"E:\\dataset\\BRaTS2024-GoAT\\ISBI2024-BraTS-GoAT-TrainingData\\BraTS-GoAT-00006\\BraTS-GoAT-00006-t1c.nii.gz\"\n",
    "nii = nib.load(path)\n",
    "print(nii.affine)"
   ]
  },
  {
   "cell_type": "code",
   "execution_count": 8,
   "metadata": {},
   "outputs": [],
   "source": [
    "img = niiread(path)\n",
    "aff = niiread_affine(path)\n",
    "niiwrite_nib(r\"F:\\Stuff\\Programming\\experiments\\vkr\\test.nii.gz\", img, aff)"
   ]
  },
  {
   "cell_type": "code",
   "execution_count": 10,
   "metadata": {},
   "outputs": [
    {
     "data": {
      "application/vnd.jupyter.widget-view+json": {
       "model_id": "bbc8876322604fd0bc3a6f58502841d8",
       "version_major": 2,
       "version_minor": 0
      },
      "text/plain": [
       "interactive(children=(Checkbox(value=False, description='color'), Text(value='0 1 2', description='permute'), …"
      ]
     },
     "metadata": {},
     "output_type": "display_data"
    },
    {
     "data": {
      "text/plain": [
       "<function glio.jupyter_tools.show_slices_arr.<locals>.f(color, permute: str, **kwargs)>"
      ]
     },
     "execution_count": 10,
     "metadata": {},
     "output_type": "execute_result"
    }
   ],
   "source": [
    "from glio.jupyter_tools import show_slices, show_slices_arr\n",
    "show_slices_arr(img)"
   ]
  },
  {
   "cell_type": "code",
   "execution_count": 12,
   "metadata": {},
   "outputs": [
    {
     "data": {
      "application/vnd.jupyter.widget-view+json": {
       "model_id": "f8a63d39af904b5291e35b9e1309ee14",
       "version_major": 2,
       "version_minor": 0
      },
      "text/plain": [
       "interactive(children=(Checkbox(value=False, description='color'), Text(value='0 1 2 3', description='permute')…"
      ]
     },
     "metadata": {},
     "output_type": "display_data"
    },
    {
     "data": {
      "text/plain": [
       "<function glio.jupyter_tools.show_slices_arr.<locals>.f(color, permute: str, **kwargs)>"
      ]
     },
     "execution_count": 12,
     "metadata": {},
     "output_type": "execute_result"
    }
   ],
   "source": [
    "from glio.loaders import niireadtensor\n",
    "from glio.python_tools import find_file_containing\n",
    "import torch\n",
    "dcmpath = r'E:\\dataset\\BRaTS2024-GoAT\\ISBI2024-BraTS-GoAT-TrainingData\\BraTS-GoAT-00000'\n",
    "t1c = niireadtensor(find_file_containing(dcmpath, \"t1c\")) # type:ignore\n",
    "t1n = niireadtensor(find_file_containing(dcmpath, \"t1n\")) # type:ignore\n",
    "t2f = niireadtensor(find_file_containing(dcmpath, \"t2f\")) # type:ignore\n",
    "t2w = niireadtensor(find_file_containing(dcmpath, \"t2w\")) # type:ignore\n",
    "affine = niiread_affine(find_file_containing(dcmpath, \"t1c\")) # type:ignore\n",
    "images = torch.stack((t1c,t1n,t2f,t2w)).permute(3,0,2,1)\n",
    "show_slices_arr(images)"
   ]
  }
 ],
 "metadata": {
  "kernelspec": {
   "display_name": "Python 3",
   "language": "python",
   "name": "python3"
  },
  "language_info": {
   "codemirror_mode": {
    "name": "ipython",
    "version": 3
   },
   "file_extension": ".py",
   "mimetype": "text/x-python",
   "name": "python",
   "nbconvert_exporter": "python",
   "pygments_lexer": "ipython3",
   "version": "3.11.5"
  }
 },
 "nbformat": 4,
 "nbformat_minor": 2
}
