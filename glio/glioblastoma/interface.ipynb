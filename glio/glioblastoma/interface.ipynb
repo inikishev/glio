{
 "cells": [
  {
   "cell_type": "code",
   "execution_count": 1,
   "metadata": {},
   "outputs": [],
   "source": [
    "import pydicom\n",
    "import pydicom_seg\n",
    "import SimpleITK as sitk\n",
    "from glio.glioblastoma.dicomseg import save_seg,save_seg_mock\n",
    "from glio.glioblastoma.DICOMFolder import DICOMDir, Patient\n",
    "from monai import transforms\n",
    "from glio.python_tools import get_all_files\n",
    "import torch\n",
    "import gradio as gr\n"
   ]
  },
  {
   "cell_type": "code",
   "execution_count": 2,
   "metadata": {},
   "outputs": [
    {
     "name": "stdout",
     "output_type": "stream",
     "text": [
      "Running on local URL:  http://127.0.0.1:7860\n",
      "\n",
      "To create a public link, set `share=True` in `launch()`.\n"
     ]
    },
    {
     "data": {
      "text/html": [
       "<div><iframe src=\"http://127.0.0.1:7860/\" width=\"100%\" height=\"500\" allow=\"autoplay; camera; microphone; clipboard-read; clipboard-write;\" frameborder=\"0\" allowfullscreen></iframe></div>"
      ],
      "text/plain": [
       "<IPython.core.display.HTML object>"
      ]
     },
     "metadata": {},
     "output_type": "display_data"
    },
    {
     "data": {
      "text/plain": []
     },
     "execution_count": 2,
     "metadata": {},
     "output_type": "execute_result"
    }
   ],
   "source": [
    "checkpoint = r\"F:\\Stuff\\Programming\\experiments\\vkr\\BRATS2024 2D segm v2 overnight\\SwinUNETR lr=0.003 bs=32 loss = monai.losses.dice.DiceFocalLoss opt=MADGRAD sch=NoneType\\1. 21.04.2024 16-10-47 (58-197430; testloss=0.14171; testacc=0.98250)\"\n",
    "checkpoint_linux = 'mnt/f/Stuff/Programming/experiments/vkr/BRATS2024 2D segm v2 overnight/SwinUNETR lr=0.003 bs=32 loss = monai.losses.dice.DiceFocalLoss opt=MADGRAD sch=NoneType/1. 21.04.2024 16-10-47 (58-197430; testloss=0.14171; testacc=0.98250)'\n",
    "from monai.networks.nets import SwinUNETR # type:ignore\n",
    "MODEL = SwinUNETR((96,96), 4, 4, spatial_dims = 2)\n",
    "def segment(files, progress = gr.Progress(True)):\n",
    "    progress(0.01, \"Загрузка файлов, пожалуйста подождите...\")\n",
    "    linux = False\n",
    "    progress(0.015, \"Обработка файлов, пожалуйста подождите...\")\n",
    "    checkpoint_path = checkpoint_linux if linux else checkpoint\n",
    "    filepaths = [i.name for i in files]\n",
    "    progress(0.02, \"Инициализация, пожалуйста подождите...\")\n",
    "    res = save_seg_mock(filepaths, \"GLIOTEMP\", checkpoint_path, MODEL, progress=progress)\n",
    "    progress(1, \"Сегментация произведена. Пожалуйста, загрузите файлы\")\n",
    "    return res\n",
    "\n",
    "interface = gr.Interface(\n",
    "    segment,\n",
    "    [\n",
    "        gr.Files(file_count=\"directory\", type=\"filepath\", height = 100, label = 'Выберите директорию с обследованиями DICOM'), # type:ignore\n",
    "    ],\n",
    "    [\n",
    "        gr.File()\n",
    "    ],\n",
    "    title = 'Автор - Никишев И.О.',\n",
    "    article='''''',\n",
    "    allow_flagging = 'never'\n",
    ")\n",
    "\n",
    "interface.queue().launch()"
   ]
  },
  {
   "cell_type": "code",
   "execution_count": 3,
   "metadata": {},
   "outputs": [
    {
     "name": "stdout",
     "output_type": "stream",
     "text": [
      "Running on local URL:  http://127.0.0.1:7861\n",
      "\n",
      "To create a public link, set `share=True` in `launch()`.\n"
     ]
    },
    {
     "data": {
      "text/html": [
       "<div><iframe src=\"http://127.0.0.1:7861/\" width=\"100%\" height=\"500\" allow=\"autoplay; camera; microphone; clipboard-read; clipboard-write;\" frameborder=\"0\" allowfullscreen></iframe></div>"
      ],
      "text/plain": [
       "<IPython.core.display.HTML object>"
      ]
     },
     "metadata": {},
     "output_type": "display_data"
    },
    {
     "data": {
      "text/plain": []
     },
     "execution_count": 3,
     "metadata": {},
     "output_type": "execute_result"
    },
    {
     "name": "stderr",
     "output_type": "stream",
     "text": [
      "d:\\miniconda3\\envs\\pytorch311\\Lib\\site-packages\\pydicom\\valuerep.py:443: UserWarning:\n",
      "\n",
      "Invalid value for VR CS: 'brain'. Please see <https://dicom.nema.org/medical/dicom/current/output/html/part05.html#table_6.2-1> for allowed values for each VR.\n",
      "\n"
     ]
    },
    {
     "name": "stdout",
     "output_type": "stream",
     "text": [
      "Размер исходного изображения: (256, 256, 124)\n",
      "DICOMDir с 1 пациентами, 1 обследованиями, 8 сериями.\n",
      "Размер изображения сегментации: torch.Size([4, 155, 240, 250])\n",
      "Размер изображения после изменения размера: torch.Size([4, 256, 256, 124])\n"
     ]
    },
    {
     "name": "stderr",
     "output_type": "stream",
     "text": [
      "Skipping segment(s) 254, 255, since their declaration is missing in the DICOM template\n",
      "d:\\miniconda3\\envs\\pytorch311\\Lib\\site-packages\\pydicom\\charset.py:547: UserWarning:\n",
      "\n",
      "Failed to encode value with encodings: latin_1 - using replacement characters in encoded string\n",
      "\n",
      "Skipping segment(s) 254, 255, since their declaration is missing in the DICOM template\n",
      "Skipping segment(s) 254, 255, since their declaration is missing in the DICOM template\n"
     ]
    }
   ],
   "source": [
    "import gradio as gr\n",
    "import time\n",
    "def my_function(x, progress=gr.Progress()):\n",
    "    progress(0, desc=\"Starting...\")\n",
    "    time.sleep(1) \n",
    "    for i in progress.tqdm(range(100)):\n",
    "        time.sleep(0.1)\n",
    "    return x\n",
    "gr.Interface(my_function, gr.Textbox(), gr.Textbox()).queue().launch()"
   ]
  }
 ],
 "metadata": {
  "kernelspec": {
   "display_name": "pytorch311",
   "language": "python",
   "name": "python3"
  },
  "language_info": {
   "codemirror_mode": {
    "name": "ipython",
    "version": 3
   },
   "file_extension": ".py",
   "mimetype": "text/x-python",
   "name": "python",
   "nbconvert_exporter": "python",
   "pygments_lexer": "ipython3",
   "version": "3.11.5"
  }
 },
 "nbformat": 4,
 "nbformat_minor": 2
}
