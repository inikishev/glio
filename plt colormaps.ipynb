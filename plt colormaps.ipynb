{
 "cells": [
  {
   "cell_type": "code",
   "execution_count": 1,
   "metadata": {},
   "outputs": [
    {
     "data": {
      "image/png": "[encoded data removed]",
      "text/html": [
       "<div style=\"vertical-align: middle;\"><strong>RYG</strong> </div><div class=\"cmap\"><img alt=\"RYG colormap\" title=\"RYG\" style=\"border: 1px solid #555;\" src=\"data:image/png;base64,iVBORw0KGgoAAAANSUhEUgAAAgAAAABACAYAAABsv8+/AAAAEnRFWHRUaXRsZQBSWUcgY29sb3JtYXDxKK5LAAAAGHRFWHREZXNjcmlwdGlvbgBSWUcgY29sb3JtYXD9ANwRAAAAMHRFWHRBdXRob3IATWF0cGxvdGxpYiB2My44LjAsIGh0dHBzOi8vbWF0cGxvdGxpYi5vcmefc/hPAAAAMnRFWHRTb2Z0d2FyZQBNYXRwbG90bGliIHYzLjguMCwgaHR0cHM6Ly9tYXRwbG90bGliLm9yZ7HVZ2gAAAFsSURBVHic7da5DoJAFEDRQf17v1mwEBsat8TtntO8jMMgBSF3Oo6xjDHGflxU5uHF89Nu88N2fe9817ln/8dz/vW5eVrncpmnebNefmz/up7tf/X+t7wvD+4v6xy35nzndZ+63zqvnwUAIEQAAECQAACAIAEAAEECAACCBAAABAkAAAgSAAAQJAAAIEgAAECQAACAIAEAAEECAACCBAAABAkAAAgSAAAQJAAAIEgAAECQAACAIAEAAEECAACCBAAABAkAAAgSAAAQJAAAIEgAAECQAACAIAEAAEECAACCBAAABAkAAAgSAAAQJAAAIEgAAECQAACAIAEAAEECAACCBAAABAkAAAgSAAAQJAAAIEgAAECQAACAIAEAAEECAACCBAAABAkAAAgSAAAQJAAAIEgAAECQAACAIAEAAEECAACCBAAABAkAAAgSAAAQJAAAIEgAAECQAACAIAEAAEECAACCBAAABAkAAAg6A3ud5+MADar+AAAAAElFTkSuQmCC\"></div><div style=\"vertical-align: middle; max-width: 514px; display: flex; justify-content: space-between;\"><div style=\"float: left;\"><div title=\"#8b0000ff\" style=\"display: inline-block; width: 1em; height: 1em; margin: 0; vertical-align: middle; border: 1px solid #555; background-color: #8b0000ff;\"></div> under</div><div style=\"margin: 0 auto; display: inline-block;\">bad <div title=\"#00000000\" style=\"display: inline-block; width: 1em; height: 1em; margin: 0; vertical-align: middle; border: 1px solid #555; background-color: #00000000;\"></div></div><div style=\"float: right;\">over <div title=\"#006400ff\" style=\"display: inline-block; width: 1em; height: 1em; margin: 0; vertical-align: middle; border: 1px solid #555; background-color: #006400ff;\"></div></div>"
      ],
      "text/plain": [
       "<matplotlib.colors.LinearSegmentedColormap at 0x2642dc58b10>"
      ]
     },
     "execution_count": 1,
     "metadata": {},
     "output_type": "execute_result"
    }
   ],
   "source": [
    "import matplotlib, matplotlib.pyplot as plt\n",
    "from  matplotlib.colors import LinearSegmentedColormap\n",
    "\n",
    "__cmap_RYG_c = [\"darkred\",\"red\",\"yellow\", \"green\",\"darkgreen\"]\n",
    "__cmap_RYG_v = [0,.15,.5,.9,1.]\n",
    "__cmap_RYG_l = list(zip(__cmap_RYG_v,__cmap_RYG_c))\n",
    "cmap_RYG=LinearSegmentedColormap.from_list('RYG',__cmap_RYG_l, N=256)\n",
    "cmap_GYR=cmap_RYG.reversed(\"GYR\")\n",
    "matplotlib.colormaps.register(cmap_RYG)\n",
    "matplotlib.colormaps.register(cmap_GYR)\n",
    "cmap_RYG"
   ]
  },
  {
   "cell_type": "code",
   "execution_count": null,
   "metadata": {},
   "outputs": [],
   "source": [
    "__cmap_RYG_c = [\"darkred\",\"red\",\"yellow\", \"green\",\"darkgreen\"]\n",
    "__cmap_RYG_v = [0,.15,.5,.9,1.]\n",
    "__cmap_RYG_l = list(zip(__cmap_RYG_v,__cmap_RYG_c))\n",
    "cmap_RYG=LinearSegmentedColormap.from_list('RYG',__cmap_RYG_l, N=256)\n",
    "cmap_GYR=cmap_RYG.reversed(\"GYR\")\n",
    "matplotlib.colormaps.register(cmap_RYG)\n",
    "matplotlib.colormaps.register(cmap_GYR)\n",
    "cmap_RYG"
   ]
  }
 ],
 "metadata": {
  "kernelspec": {
   "display_name": "pytorch311",
   "language": "python",
   "name": "python3"
  },
  "language_info": {
   "codemirror_mode": {
    "name": "ipython",
    "version": 3
   },
   "file_extension": ".py",
   "mimetype": "text/x-python",
   "name": "python",
   "nbconvert_exporter": "python",
   "pygments_lexer": "ipython3",
   "version": "3.11.5"
  }
 },
 "nbformat": 4,
 "nbformat_minor": 2
}
