{
 "cells": [
  {
   "cell_type": "code",
   "execution_count": 1,
   "metadata": {},
   "outputs": [],
   "source": [
    "from glio.design.EventModel import EventModel, CBMethod, CBCond"
   ]
  },
  {
   "cell_type": "code",
   "execution_count": 2,
   "metadata": {},
   "outputs": [],
   "source": [
    "class Method(CBMethod):\n",
    "    def mul2(self, model:EventModel, x): return x * 2\n",
    "    def setx(self, model:EventModel, x): model.x = x\n",
    "    def mulmodelx2(self, model:EventModel): model.x *= 2\n",
    "\n",
    "class Log(CBCond):\n",
    "    def __call__(self, model:EventModel):\n",
    "        print(model.x)"
   ]
  },
  {
   "cell_type": "code",
   "execution_count": 3,
   "metadata": {},
   "outputs": [
    {
     "name": "stdout",
     "output_type": "stream",
     "text": [
      "20\n",
      "40\n",
      "80\n",
      "160\n",
      "320\n"
     ]
    }
   ],
   "source": [
    "model = EventModel([Method()])\n",
    "\n",
    "with model.extra(Log().on(\"mulmodelx2\")):\n",
    "    model.setx(10)\n",
    "    model.mulmodelx2()\n",
    "    model.mulmodelx2()\n",
    "    model.mulmodelx2()\n",
    "    model.mulmodelx2()\n",
    "    model.mulmodelx2()"
   ]
  },
  {
   "cell_type": "code",
   "execution_count": 4,
   "metadata": {},
   "outputs": [
    {
     "data": {
      "text/plain": [
       "[None]"
      ]
     },
     "execution_count": 4,
     "metadata": {},
     "output_type": "execute_result"
    }
   ],
   "source": [
    "model.setx(10)\n",
    "model.mulmodelx2()\n",
    "model.mulmodelx2()\n",
    "model.mulmodelx2()\n",
    "model.mulmodelx2()\n",
    "model.mulmodelx2()"
   ]
  },
  {
   "cell_type": "code",
   "execution_count": 5,
   "metadata": {},
   "outputs": [
    {
     "name": "stdout",
     "output_type": "stream",
     "text": [
      "10\n",
      "20\n",
      "40\n",
      "80\n",
      "160\n"
     ]
    }
   ],
   "source": [
    "model = EventModel([Log().on(\"mulmodelx2\")])\n",
    "\n",
    "with model.extra(Method()):\n",
    "    model.setx(10)\n",
    "    model.mulmodelx2()\n",
    "    model.mulmodelx2()\n",
    "    model.mulmodelx2()\n",
    "    model.mulmodelx2()\n",
    "    model.mulmodelx2()"
   ]
  },
  {
   "cell_type": "code",
   "execution_count": 6,
   "metadata": {},
   "outputs": [],
   "source": [
    "model = EventModel([Method(), Log().on(\"mulmodelx2\")])\n",
    "with model.without(\"Log\"):\n",
    "    model.setx(10)\n",
    "    model.mulmodelx2()\n",
    "    model.mulmodelx2()\n",
    "    model.mulmodelx2()\n",
    "    model.mulmodelx2()\n",
    "    model.mulmodelx2()"
   ]
  },
  {
   "cell_type": "code",
   "execution_count": 7,
   "metadata": {},
   "outputs": [
    {
     "name": "stdout",
     "output_type": "stream",
     "text": [
      "20\n",
      "40\n",
      "80\n",
      "160\n",
      "320\n"
     ]
    },
    {
     "data": {
      "text/plain": [
       "[None, None]"
      ]
     },
     "execution_count": 7,
     "metadata": {},
     "output_type": "execute_result"
    }
   ],
   "source": [
    "model.setx(10)\n",
    "model.mulmodelx2()\n",
    "model.mulmodelx2()\n",
    "model.mulmodelx2()\n",
    "model.mulmodelx2()\n",
    "model.mulmodelx2()"
   ]
  },
  {
   "cell_type": "code",
   "execution_count": 8,
   "metadata": {},
   "outputs": [
    {
     "ename": "AttributeError",
     "evalue": "`setx` not found in EventModel or any of the callbacks",
     "output_type": "error",
     "traceback": [
      "\u001b[1;31m---------------------------------------------------------------------------\u001b[0m",
      "\u001b[1;31mAttributeError\u001b[0m                            Traceback (most recent call last)",
      "Cell \u001b[1;32mIn [8], line 2\u001b[0m\n\u001b[0;32m      1\u001b[0m \u001b[38;5;28;01mwith\u001b[39;00m model\u001b[38;5;241m.\u001b[39mwithout(\u001b[38;5;124m\"\u001b[39m\u001b[38;5;124mMethod\u001b[39m\u001b[38;5;124m\"\u001b[39m):\n\u001b[1;32m----> 2\u001b[0m     \u001b[43mmodel\u001b[49m\u001b[38;5;241;43m.\u001b[39;49m\u001b[43msetx\u001b[49m(\u001b[38;5;241m10\u001b[39m)\n\u001b[0;32m      3\u001b[0m     model\u001b[38;5;241m.\u001b[39mmulmodelx2()\n\u001b[0;32m      4\u001b[0m     model\u001b[38;5;241m.\u001b[39mmulmodelx2()\n",
      "File \u001b[1;32mf:\\Stuff\\Programming\\AI\\glio_diff\\glio\\design\\EventModel.py:194\u001b[0m, in \u001b[0;36mEventModel.__getattr__\u001b[1;34m(self, attr)\u001b[0m\n\u001b[0;32m    192\u001b[0m \u001b[38;5;129m@final\u001b[39m\n\u001b[0;32m    193\u001b[0m \u001b[38;5;28;01mdef\u001b[39;00m \u001b[38;5;21m__getattr__\u001b[39m(\u001b[38;5;28mself\u001b[39m, attr: \u001b[38;5;28mstr\u001b[39m) \u001b[38;5;241m-\u001b[39m\u001b[38;5;241m>\u001b[39m Any:\n\u001b[1;32m--> 194\u001b[0m     \u001b[38;5;28;01mif\u001b[39;00m attr \u001b[38;5;129;01mnot\u001b[39;00m \u001b[38;5;129;01min\u001b[39;00m \u001b[38;5;28mself\u001b[39m\u001b[38;5;241m.\u001b[39mevents: \u001b[38;5;28;01mraise\u001b[39;00m \u001b[38;5;167;01mAttributeError\u001b[39;00m(\u001b[38;5;124mf\u001b[39m\u001b[38;5;124m'\u001b[39m\u001b[38;5;124m`\u001b[39m\u001b[38;5;132;01m{\u001b[39;00mattr\u001b[38;5;132;01m}\u001b[39;00m\u001b[38;5;124m` not found in \u001b[39m\u001b[38;5;132;01m{\u001b[39;00m\u001b[38;5;28mself\u001b[39m\u001b[38;5;241m.\u001b[39m\u001b[38;5;18m__class__\u001b[39m\u001b[38;5;241m.\u001b[39m\u001b[38;5;18m__name__\u001b[39m\u001b[38;5;132;01m}\u001b[39;00m\u001b[38;5;124m or any of the callbacks\u001b[39m\u001b[38;5;124m'\u001b[39m)\n\u001b[0;32m    195\u001b[0m     \u001b[38;5;28;01mreturn\u001b[39;00m partial(\u001b[38;5;28mself\u001b[39m\u001b[38;5;241m.\u001b[39mevent, attr)\n",
      "\u001b[1;31mAttributeError\u001b[0m: `setx` not found in EventModel or any of the callbacks"
     ]
    }
   ],
   "source": [
    "with model.without(\"Method\"):\n",
    "    model.setx(10)\n",
    "    model.mulmodelx2()\n",
    "    model.mulmodelx2()\n",
    "    model.mulmodelx2()\n",
    "    model.mulmodelx2()\n",
    "    model.mulmodelx2()"
   ]
  },
  {
   "cell_type": "code",
   "execution_count": 7,
   "metadata": {},
   "outputs": [
    {
     "data": {
      "text/plain": [
       "(tensor(1), tensor([2]), tensor([[3]]))"
      ]
     },
     "execution_count": 7,
     "metadata": {},
     "output_type": "execute_result"
    }
   ],
   "source": [
    "import torch\n",
    "a0 = torch.tensor(1)\n",
    "a1 = torch.tensor([2])\n",
    "a2 = torch.tensor([[3]])\n",
    "a11 = torch.tensor([4,4])\n",
    "a0, a1, a2"
   ]
  },
  {
   "cell_type": "code",
   "execution_count": 2,
   "metadata": {},
   "outputs": [
    {
     "data": {
      "text/plain": [
       "(0, 1, 2)"
      ]
     },
     "execution_count": 2,
     "metadata": {},
     "output_type": "execute_result"
    }
   ],
   "source": [
    "a0.ndim, a1.ndim, a2.ndim"
   ]
  },
  {
   "cell_type": "code",
   "execution_count": 3,
   "metadata": {},
   "outputs": [
    {
     "data": {
      "text/plain": [
       "1"
      ]
     },
     "execution_count": 3,
     "metadata": {},
     "output_type": "execute_result"
    }
   ],
   "source": [
    "a0.numel()"
   ]
  },
  {
   "cell_type": "code",
   "execution_count": 8,
   "metadata": {},
   "outputs": [
    {
     "ename": "ValueError",
     "evalue": "only one element tensors can be converted to Python scalars",
     "output_type": "error",
     "traceback": [
      "\u001b[1;31m---------------------------------------------------------------------------\u001b[0m",
      "\u001b[1;31mValueError\u001b[0m                                Traceback (most recent call last)",
      "Cell \u001b[1;32mIn [8], line 1\u001b[0m\n\u001b[1;32m----> 1\u001b[0m \u001b[38;5;28;43mfloat\u001b[39;49m\u001b[43m(\u001b[49m\u001b[43ma11\u001b[49m\u001b[43m)\u001b[49m\n",
      "\u001b[1;31mValueError\u001b[0m: only one element tensors can be converted to Python scalars"
     ]
    }
   ],
   "source": [
    "float(a11)"
   ]
  }
 ],
 "metadata": {
  "kernelspec": {
   "display_name": "pytorch311",
   "language": "python",
   "name": "python3"
  },
  "language_info": {
   "codemirror_mode": {
    "name": "ipython",
    "version": 3
   },
   "file_extension": ".py",
   "mimetype": "text/x-python",
   "name": "python",
   "nbconvert_exporter": "python",
   "pygments_lexer": "ipython3",
   "version": "3.11.5"
  }
 },
 "nbformat": 4,
 "nbformat_minor": 2
}
